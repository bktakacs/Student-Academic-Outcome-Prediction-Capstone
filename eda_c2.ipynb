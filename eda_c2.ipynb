{
 "cells": [
  {
   "cell_type": "markdown",
   "metadata": {},
   "source": [
    "## __Exploratory Data Analysis__"
   ]
  },
  {
   "cell_type": "markdown",
   "metadata": {},
   "source": [
    "### __Import Packages__"
   ]
  },
  {
   "cell_type": "code",
   "execution_count": 1,
   "metadata": {},
   "outputs": [],
   "source": [
    "import numpy as np\n",
    "import pandas as pd\n",
    "import os\n",
    "import matplotlib.pyplot as plt\n",
    "import seaborn as sns\n",
    "from sklearn.decomposition import PCA\n",
    "from sklearn.preprocessing import scale\n",
    "\n",
    "from library.sb_utils import save_file"
   ]
  },
  {
   "cell_type": "markdown",
   "metadata": {},
   "source": [
    "### __Load Data__"
   ]
  },
  {
   "cell_type": "code",
   "execution_count": 111,
   "metadata": {},
   "outputs": [
    {
     "name": "stdout",
     "output_type": "stream",
     "text": [
      "{0: 'Student', 1: 'Representatives of the Legislative Power and Executive Bodies, Directors, Directors and Executive Managers', 2: 'Specialists in Intellectual and Scientific Activities', 3: 'Intermediate Level Technicians and Professions', 4: 'Administrative staff', 5: 'Personal Services, Security and Safety Workers and Sellers', 6: 'Farmers and Skilled Workers in Agriculture, Fisheries and Forestry', 7: 'Skilled Workers in Industry, Construction and Craftsmen', 8: 'Installation and Machine Operators and Assembly Workers', 9: 'Unskilled Workers', 10: 'Armed Forces Professions', 90: 'Other Situation', 99: '(blank)', 122: 'Health professionals', 123: 'teachers', 125: 'Specialists in information and communication technologies (ICT)', 131: 'Intermediate level science and engineering technicians and professions', 132: 'Technicians and professionals, of intermediate level of health', 134: 'Intermediate level technicians from legal, social, sports, cultural and similar services', 141: 'Office workers, secretaries in general and data processing operators', 143: 'Data, accounting, statistical, financial services and registry-related operators', 144: 'Other administrative support staff', 151: 'personal service workers', 152: 'sellers', 153: 'Personal care workers and the like', 171: 'Skilled construction workers and the like, except electricians', 173: 'Skilled workers in printing, precision instrument manufacturing, jewelers, artisans and the like', 175: 'Workers in food processing, woodworking, clothing and other industries and crafts', 191: 'cleaning workers', 192: 'Unskilled workers in agriculture, animal production, fisheries and forestry', 193: 'Unskilled workers in extractive industry, construction, manufacturing and transport', 194: 'Meal preparation assistants'}\n"
     ]
    }
   ],
   "source": [
    "# Load cleaned data\n",
    "df = pd.read_csv('./data/df_cleaned.csv')\n",
    "\n",
    "# Load dictionaries from dict_file.txt and replace string keys with int values\n",
    "with open('./data/dict_file.txt', 'r') as file:\n",
    "    for line in file:\n",
    "        split = line.split(' ', maxsplit=2)\n",
    "        globals()[split[0]] = eval(split[2])\n",
    "        globals()[split[0]] = {int(k):v for k, v in globals()[split[0]].items()}\n",
    "\n",
    "# Test that we have the dictionaries loaded correctly\n",
    "print(mothers_occupation)"
   ]
  },
  {
   "cell_type": "markdown",
   "metadata": {},
   "source": [
    "### __Explore Data__"
   ]
  },
  {
   "cell_type": "code",
   "execution_count": 113,
   "metadata": {},
   "outputs": [
    {
     "name": "stdout",
     "output_type": "stream",
     "text": [
      "Total number of students:  4424\n",
      "Most international students are:  Brazilian\n"
     ]
    }
   ],
   "source": [
    "print('Total number of students: ', df.shape[0])\n",
    "print('Most international students are: ', nationality[df.Nationality.value_counts().index[1]])"
   ]
  },
  {
   "cell_type": "code",
   "execution_count": null,
   "metadata": {},
   "outputs": [],
   "source": []
  }
 ],
 "metadata": {
  "kernelspec": {
   "display_name": ".venv",
   "language": "python",
   "name": "python3"
  },
  "language_info": {
   "codemirror_mode": {
    "name": "ipython",
    "version": 3
   },
   "file_extension": ".py",
   "mimetype": "text/x-python",
   "name": "python",
   "nbconvert_exporter": "python",
   "pygments_lexer": "ipython3",
   "version": "3.9.2"
  }
 },
 "nbformat": 4,
 "nbformat_minor": 2
}
