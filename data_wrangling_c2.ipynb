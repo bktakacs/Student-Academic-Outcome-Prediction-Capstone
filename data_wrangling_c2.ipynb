{
 "cells": [
  {
   "cell_type": "markdown",
   "metadata": {},
   "source": [
    "# __Capstone Project 2: Exploratory Data Analysis__"
   ]
  },
  {
   "cell_type": "markdown",
   "metadata": {},
   "source": [
    "### __Imports__"
   ]
  },
  {
   "cell_type": "code",
   "execution_count": 4,
   "metadata": {},
   "outputs": [],
   "source": [
    "import numpy as np\n",
    "import pandas as pd\n",
    "import matplotlib.pyplot as plt\n",
    "import seaborn as sns\n",
    "import os\n",
    "import re\n",
    "import warnings\n",
    "\n",
    "from library.sb_utils import save_file\n",
    "warnings.filterwarnings('ignore')"
   ]
  },
  {
   "cell_type": "markdown",
   "metadata": {},
   "source": [
    "### __Load Data__"
   ]
  },
  {
   "cell_type": "code",
   "execution_count": 5,
   "metadata": {},
   "outputs": [],
   "source": [
    "# Data can be found here https://archive.ics.uci.edu/dataset/697/predict+students+dropout+and+academic+success\n",
    "df = pd.read_csv('./data/data.csv', delimiter=';')"
   ]
  },
  {
   "cell_type": "code",
   "execution_count": 6,
   "metadata": {},
   "outputs": [
    {
     "data": {
      "application/vnd.microsoft.datawrangler.viewer.v0+json": {
       "columns": [
        {
         "name": "index",
         "rawType": "int64",
         "type": "integer"
        },
        {
         "name": "Marital status",
         "rawType": "int64",
         "type": "integer"
        },
        {
         "name": "Application mode",
         "rawType": "int64",
         "type": "integer"
        },
        {
         "name": "Application order",
         "rawType": "int64",
         "type": "integer"
        },
        {
         "name": "Course",
         "rawType": "int64",
         "type": "integer"
        },
        {
         "name": "Daytime/evening attendance\t",
         "rawType": "int64",
         "type": "integer"
        },
        {
         "name": "Previous qualification",
         "rawType": "int64",
         "type": "integer"
        },
        {
         "name": "Previous qualification (grade)",
         "rawType": "float64",
         "type": "float"
        },
        {
         "name": "Nacionality",
         "rawType": "int64",
         "type": "integer"
        },
        {
         "name": "Mother's qualification",
         "rawType": "int64",
         "type": "integer"
        },
        {
         "name": "Father's qualification",
         "rawType": "int64",
         "type": "integer"
        },
        {
         "name": "Mother's occupation",
         "rawType": "int64",
         "type": "integer"
        },
        {
         "name": "Father's occupation",
         "rawType": "int64",
         "type": "integer"
        },
        {
         "name": "Admission grade",
         "rawType": "float64",
         "type": "float"
        },
        {
         "name": "Displaced",
         "rawType": "int64",
         "type": "integer"
        },
        {
         "name": "Educational special needs",
         "rawType": "int64",
         "type": "integer"
        },
        {
         "name": "Debtor",
         "rawType": "int64",
         "type": "integer"
        },
        {
         "name": "Tuition fees up to date",
         "rawType": "int64",
         "type": "integer"
        },
        {
         "name": "Gender",
         "rawType": "int64",
         "type": "integer"
        },
        {
         "name": "Scholarship holder",
         "rawType": "int64",
         "type": "integer"
        },
        {
         "name": "Age at enrollment",
         "rawType": "int64",
         "type": "integer"
        },
        {
         "name": "International",
         "rawType": "int64",
         "type": "integer"
        },
        {
         "name": "Curricular units 1st sem (credited)",
         "rawType": "int64",
         "type": "integer"
        },
        {
         "name": "Curricular units 1st sem (enrolled)",
         "rawType": "int64",
         "type": "integer"
        },
        {
         "name": "Curricular units 1st sem (evaluations)",
         "rawType": "int64",
         "type": "integer"
        },
        {
         "name": "Curricular units 1st sem (approved)",
         "rawType": "int64",
         "type": "integer"
        },
        {
         "name": "Curricular units 1st sem (grade)",
         "rawType": "float64",
         "type": "float"
        },
        {
         "name": "Curricular units 1st sem (without evaluations)",
         "rawType": "int64",
         "type": "integer"
        },
        {
         "name": "Curricular units 2nd sem (credited)",
         "rawType": "int64",
         "type": "integer"
        },
        {
         "name": "Curricular units 2nd sem (enrolled)",
         "rawType": "int64",
         "type": "integer"
        },
        {
         "name": "Curricular units 2nd sem (evaluations)",
         "rawType": "int64",
         "type": "integer"
        },
        {
         "name": "Curricular units 2nd sem (approved)",
         "rawType": "int64",
         "type": "integer"
        },
        {
         "name": "Curricular units 2nd sem (grade)",
         "rawType": "float64",
         "type": "float"
        },
        {
         "name": "Curricular units 2nd sem (without evaluations)",
         "rawType": "int64",
         "type": "integer"
        },
        {
         "name": "Unemployment rate",
         "rawType": "float64",
         "type": "float"
        },
        {
         "name": "Inflation rate",
         "rawType": "float64",
         "type": "float"
        },
        {
         "name": "GDP",
         "rawType": "float64",
         "type": "float"
        },
        {
         "name": "Target",
         "rawType": "object",
         "type": "string"
        }
       ],
       "conversionMethod": "pd.DataFrame",
       "ref": "f0d4ee39-4cfe-4765-8f63-e7f979acf39c",
       "rows": [
        [
         "0",
         "1",
         "17",
         "5",
         "171",
         "1",
         "1",
         "122.0",
         "1",
         "19",
         "12",
         "5",
         "9",
         "127.3",
         "1",
         "0",
         "0",
         "1",
         "1",
         "0",
         "20",
         "0",
         "0",
         "0",
         "0",
         "0",
         "0.0",
         "0",
         "0",
         "0",
         "0",
         "0",
         "0.0",
         "0",
         "10.8",
         "1.4",
         "1.74",
         "Dropout"
        ],
        [
         "1",
         "1",
         "15",
         "1",
         "9254",
         "1",
         "1",
         "160.0",
         "1",
         "1",
         "3",
         "3",
         "3",
         "142.5",
         "1",
         "0",
         "0",
         "0",
         "1",
         "0",
         "19",
         "0",
         "0",
         "6",
         "6",
         "6",
         "14.0",
         "0",
         "0",
         "6",
         "6",
         "6",
         "13.666666666666666",
         "0",
         "13.9",
         "-0.3",
         "0.79",
         "Graduate"
        ],
        [
         "2",
         "1",
         "1",
         "5",
         "9070",
         "1",
         "1",
         "122.0",
         "1",
         "37",
         "37",
         "9",
         "9",
         "124.8",
         "1",
         "0",
         "0",
         "0",
         "1",
         "0",
         "19",
         "0",
         "0",
         "6",
         "0",
         "0",
         "0.0",
         "0",
         "0",
         "6",
         "0",
         "0",
         "0.0",
         "0",
         "10.8",
         "1.4",
         "1.74",
         "Dropout"
        ],
        [
         "3",
         "1",
         "17",
         "2",
         "9773",
         "1",
         "1",
         "122.0",
         "1",
         "38",
         "37",
         "5",
         "3",
         "119.6",
         "1",
         "0",
         "0",
         "1",
         "0",
         "0",
         "20",
         "0",
         "0",
         "6",
         "8",
         "6",
         "13.428571428571429",
         "0",
         "0",
         "6",
         "10",
         "5",
         "12.4",
         "0",
         "9.4",
         "-0.8",
         "-3.12",
         "Graduate"
        ],
        [
         "4",
         "2",
         "39",
         "1",
         "8014",
         "0",
         "1",
         "100.0",
         "1",
         "37",
         "38",
         "9",
         "9",
         "141.5",
         "0",
         "0",
         "0",
         "1",
         "0",
         "0",
         "45",
         "0",
         "0",
         "6",
         "9",
         "5",
         "12.333333333333334",
         "0",
         "0",
         "6",
         "6",
         "6",
         "13.0",
         "0",
         "13.9",
         "-0.3",
         "0.79",
         "Graduate"
        ]
       ],
       "shape": {
        "columns": 37,
        "rows": 5
       }
      },
      "text/html": [
       "<div>\n",
       "<style scoped>\n",
       "    .dataframe tbody tr th:only-of-type {\n",
       "        vertical-align: middle;\n",
       "    }\n",
       "\n",
       "    .dataframe tbody tr th {\n",
       "        vertical-align: top;\n",
       "    }\n",
       "\n",
       "    .dataframe thead th {\n",
       "        text-align: right;\n",
       "    }\n",
       "</style>\n",
       "<table border=\"1\" class=\"dataframe\">\n",
       "  <thead>\n",
       "    <tr style=\"text-align: right;\">\n",
       "      <th></th>\n",
       "      <th>Marital status</th>\n",
       "      <th>Application mode</th>\n",
       "      <th>Application order</th>\n",
       "      <th>Course</th>\n",
       "      <th>Daytime/evening attendance\\t</th>\n",
       "      <th>Previous qualification</th>\n",
       "      <th>Previous qualification (grade)</th>\n",
       "      <th>Nacionality</th>\n",
       "      <th>Mother's qualification</th>\n",
       "      <th>Father's qualification</th>\n",
       "      <th>...</th>\n",
       "      <th>Curricular units 2nd sem (credited)</th>\n",
       "      <th>Curricular units 2nd sem (enrolled)</th>\n",
       "      <th>Curricular units 2nd sem (evaluations)</th>\n",
       "      <th>Curricular units 2nd sem (approved)</th>\n",
       "      <th>Curricular units 2nd sem (grade)</th>\n",
       "      <th>Curricular units 2nd sem (without evaluations)</th>\n",
       "      <th>Unemployment rate</th>\n",
       "      <th>Inflation rate</th>\n",
       "      <th>GDP</th>\n",
       "      <th>Target</th>\n",
       "    </tr>\n",
       "  </thead>\n",
       "  <tbody>\n",
       "    <tr>\n",
       "      <th>0</th>\n",
       "      <td>1</td>\n",
       "      <td>17</td>\n",
       "      <td>5</td>\n",
       "      <td>171</td>\n",
       "      <td>1</td>\n",
       "      <td>1</td>\n",
       "      <td>122.0</td>\n",
       "      <td>1</td>\n",
       "      <td>19</td>\n",
       "      <td>12</td>\n",
       "      <td>...</td>\n",
       "      <td>0</td>\n",
       "      <td>0</td>\n",
       "      <td>0</td>\n",
       "      <td>0</td>\n",
       "      <td>0.000000</td>\n",
       "      <td>0</td>\n",
       "      <td>10.8</td>\n",
       "      <td>1.4</td>\n",
       "      <td>1.74</td>\n",
       "      <td>Dropout</td>\n",
       "    </tr>\n",
       "    <tr>\n",
       "      <th>1</th>\n",
       "      <td>1</td>\n",
       "      <td>15</td>\n",
       "      <td>1</td>\n",
       "      <td>9254</td>\n",
       "      <td>1</td>\n",
       "      <td>1</td>\n",
       "      <td>160.0</td>\n",
       "      <td>1</td>\n",
       "      <td>1</td>\n",
       "      <td>3</td>\n",
       "      <td>...</td>\n",
       "      <td>0</td>\n",
       "      <td>6</td>\n",
       "      <td>6</td>\n",
       "      <td>6</td>\n",
       "      <td>13.666667</td>\n",
       "      <td>0</td>\n",
       "      <td>13.9</td>\n",
       "      <td>-0.3</td>\n",
       "      <td>0.79</td>\n",
       "      <td>Graduate</td>\n",
       "    </tr>\n",
       "    <tr>\n",
       "      <th>2</th>\n",
       "      <td>1</td>\n",
       "      <td>1</td>\n",
       "      <td>5</td>\n",
       "      <td>9070</td>\n",
       "      <td>1</td>\n",
       "      <td>1</td>\n",
       "      <td>122.0</td>\n",
       "      <td>1</td>\n",
       "      <td>37</td>\n",
       "      <td>37</td>\n",
       "      <td>...</td>\n",
       "      <td>0</td>\n",
       "      <td>6</td>\n",
       "      <td>0</td>\n",
       "      <td>0</td>\n",
       "      <td>0.000000</td>\n",
       "      <td>0</td>\n",
       "      <td>10.8</td>\n",
       "      <td>1.4</td>\n",
       "      <td>1.74</td>\n",
       "      <td>Dropout</td>\n",
       "    </tr>\n",
       "    <tr>\n",
       "      <th>3</th>\n",
       "      <td>1</td>\n",
       "      <td>17</td>\n",
       "      <td>2</td>\n",
       "      <td>9773</td>\n",
       "      <td>1</td>\n",
       "      <td>1</td>\n",
       "      <td>122.0</td>\n",
       "      <td>1</td>\n",
       "      <td>38</td>\n",
       "      <td>37</td>\n",
       "      <td>...</td>\n",
       "      <td>0</td>\n",
       "      <td>6</td>\n",
       "      <td>10</td>\n",
       "      <td>5</td>\n",
       "      <td>12.400000</td>\n",
       "      <td>0</td>\n",
       "      <td>9.4</td>\n",
       "      <td>-0.8</td>\n",
       "      <td>-3.12</td>\n",
       "      <td>Graduate</td>\n",
       "    </tr>\n",
       "    <tr>\n",
       "      <th>4</th>\n",
       "      <td>2</td>\n",
       "      <td>39</td>\n",
       "      <td>1</td>\n",
       "      <td>8014</td>\n",
       "      <td>0</td>\n",
       "      <td>1</td>\n",
       "      <td>100.0</td>\n",
       "      <td>1</td>\n",
       "      <td>37</td>\n",
       "      <td>38</td>\n",
       "      <td>...</td>\n",
       "      <td>0</td>\n",
       "      <td>6</td>\n",
       "      <td>6</td>\n",
       "      <td>6</td>\n",
       "      <td>13.000000</td>\n",
       "      <td>0</td>\n",
       "      <td>13.9</td>\n",
       "      <td>-0.3</td>\n",
       "      <td>0.79</td>\n",
       "      <td>Graduate</td>\n",
       "    </tr>\n",
       "  </tbody>\n",
       "</table>\n",
       "<p>5 rows × 37 columns</p>\n",
       "</div>"
      ],
      "text/plain": [
       "   Marital status  Application mode  Application order  Course  \\\n",
       "0               1                17                  5     171   \n",
       "1               1                15                  1    9254   \n",
       "2               1                 1                  5    9070   \n",
       "3               1                17                  2    9773   \n",
       "4               2                39                  1    8014   \n",
       "\n",
       "   Daytime/evening attendance\\t  Previous qualification  \\\n",
       "0                             1                       1   \n",
       "1                             1                       1   \n",
       "2                             1                       1   \n",
       "3                             1                       1   \n",
       "4                             0                       1   \n",
       "\n",
       "   Previous qualification (grade)  Nacionality  Mother's qualification  \\\n",
       "0                           122.0            1                      19   \n",
       "1                           160.0            1                       1   \n",
       "2                           122.0            1                      37   \n",
       "3                           122.0            1                      38   \n",
       "4                           100.0            1                      37   \n",
       "\n",
       "   Father's qualification  ...  Curricular units 2nd sem (credited)  \\\n",
       "0                      12  ...                                    0   \n",
       "1                       3  ...                                    0   \n",
       "2                      37  ...                                    0   \n",
       "3                      37  ...                                    0   \n",
       "4                      38  ...                                    0   \n",
       "\n",
       "   Curricular units 2nd sem (enrolled)  \\\n",
       "0                                    0   \n",
       "1                                    6   \n",
       "2                                    6   \n",
       "3                                    6   \n",
       "4                                    6   \n",
       "\n",
       "   Curricular units 2nd sem (evaluations)  \\\n",
       "0                                       0   \n",
       "1                                       6   \n",
       "2                                       0   \n",
       "3                                      10   \n",
       "4                                       6   \n",
       "\n",
       "   Curricular units 2nd sem (approved)  Curricular units 2nd sem (grade)  \\\n",
       "0                                    0                          0.000000   \n",
       "1                                    6                         13.666667   \n",
       "2                                    0                          0.000000   \n",
       "3                                    5                         12.400000   \n",
       "4                                    6                         13.000000   \n",
       "\n",
       "   Curricular units 2nd sem (without evaluations)  Unemployment rate  \\\n",
       "0                                               0               10.8   \n",
       "1                                               0               13.9   \n",
       "2                                               0               10.8   \n",
       "3                                               0                9.4   \n",
       "4                                               0               13.9   \n",
       "\n",
       "   Inflation rate   GDP    Target  \n",
       "0             1.4  1.74   Dropout  \n",
       "1            -0.3  0.79  Graduate  \n",
       "2             1.4  1.74   Dropout  \n",
       "3            -0.8 -3.12  Graduate  \n",
       "4            -0.3  0.79  Graduate  \n",
       "\n",
       "[5 rows x 37 columns]"
      ]
     },
     "execution_count": 6,
     "metadata": {},
     "output_type": "execute_result"
    }
   ],
   "source": [
    "df.head()"
   ]
  },
  {
   "cell_type": "markdown",
   "metadata": {},
   "source": [
    "In general, for true or false features, Yes = 1 and No = 0. Male = 1, Female = 0. Daytime/evening attendance: Daytime = 1, Evening = 0. Descriptions of features found at link above."
   ]
  },
  {
   "cell_type": "code",
   "execution_count": 7,
   "metadata": {},
   "outputs": [
    {
     "data": {
      "application/vnd.microsoft.datawrangler.viewer.v0+json": {
       "columns": [
        {
         "name": "index",
         "rawType": "int64",
         "type": "integer"
        },
        {
         "name": "Marital status",
         "rawType": "int64",
         "type": "integer"
        },
        {
         "name": "Application mode",
         "rawType": "int64",
         "type": "integer"
        },
        {
         "name": "Application order",
         "rawType": "int64",
         "type": "integer"
        },
        {
         "name": "Course",
         "rawType": "int64",
         "type": "integer"
        },
        {
         "name": "Daytime/evening attendance\t",
         "rawType": "int64",
         "type": "integer"
        },
        {
         "name": "Previous qualification",
         "rawType": "int64",
         "type": "integer"
        },
        {
         "name": "Previous qualification (grade)",
         "rawType": "float64",
         "type": "float"
        },
        {
         "name": "Nationality",
         "rawType": "int64",
         "type": "integer"
        },
        {
         "name": "Mother's qualification",
         "rawType": "int64",
         "type": "integer"
        },
        {
         "name": "Father's qualification",
         "rawType": "int64",
         "type": "integer"
        },
        {
         "name": "Mother's occupation",
         "rawType": "int64",
         "type": "integer"
        },
        {
         "name": "Father's occupation",
         "rawType": "int64",
         "type": "integer"
        },
        {
         "name": "Admission grade",
         "rawType": "float64",
         "type": "float"
        },
        {
         "name": "Displaced",
         "rawType": "int64",
         "type": "integer"
        },
        {
         "name": "Educational special needs",
         "rawType": "int64",
         "type": "integer"
        },
        {
         "name": "Debtor",
         "rawType": "int64",
         "type": "integer"
        },
        {
         "name": "Tuition fees up to date",
         "rawType": "int64",
         "type": "integer"
        },
        {
         "name": "Gender",
         "rawType": "int64",
         "type": "integer"
        },
        {
         "name": "Scholarship holder",
         "rawType": "int64",
         "type": "integer"
        },
        {
         "name": "Age at enrollment",
         "rawType": "int64",
         "type": "integer"
        },
        {
         "name": "International",
         "rawType": "int64",
         "type": "integer"
        },
        {
         "name": "Curricular units 1st sem (credited)",
         "rawType": "int64",
         "type": "integer"
        },
        {
         "name": "Curricular units 1st sem (enrolled)",
         "rawType": "int64",
         "type": "integer"
        },
        {
         "name": "Curricular units 1st sem (evaluations)",
         "rawType": "int64",
         "type": "integer"
        },
        {
         "name": "Curricular units 1st sem (approved)",
         "rawType": "int64",
         "type": "integer"
        },
        {
         "name": "Curricular units 1st sem (grade)",
         "rawType": "float64",
         "type": "float"
        },
        {
         "name": "Curricular units 1st sem (without evaluations)",
         "rawType": "int64",
         "type": "integer"
        },
        {
         "name": "Curricular units 2nd sem (credited)",
         "rawType": "int64",
         "type": "integer"
        },
        {
         "name": "Curricular units 2nd sem (enrolled)",
         "rawType": "int64",
         "type": "integer"
        },
        {
         "name": "Curricular units 2nd sem (evaluations)",
         "rawType": "int64",
         "type": "integer"
        },
        {
         "name": "Curricular units 2nd sem (approved)",
         "rawType": "int64",
         "type": "integer"
        },
        {
         "name": "Curricular units 2nd sem (grade)",
         "rawType": "float64",
         "type": "float"
        },
        {
         "name": "Curricular units 2nd sem (without evaluations)",
         "rawType": "int64",
         "type": "integer"
        },
        {
         "name": "Unemployment rate",
         "rawType": "float64",
         "type": "float"
        },
        {
         "name": "Inflation rate",
         "rawType": "float64",
         "type": "float"
        },
        {
         "name": "GDP",
         "rawType": "float64",
         "type": "float"
        },
        {
         "name": "Target",
         "rawType": "object",
         "type": "string"
        }
       ],
       "conversionMethod": "pd.DataFrame",
       "ref": "9ba89fac-0003-4fd2-b2ac-a4a3bd26a3f2",
       "rows": [
        [
         "0",
         "1",
         "17",
         "5",
         "171",
         "1",
         "1",
         "122.0",
         "1",
         "19",
         "12",
         "5",
         "9",
         "127.3",
         "1",
         "0",
         "0",
         "1",
         "1",
         "0",
         "20",
         "0",
         "0",
         "0",
         "0",
         "0",
         "0.0",
         "0",
         "0",
         "0",
         "0",
         "0",
         "0.0",
         "0",
         "10.8",
         "1.4",
         "1.74",
         "Dropout"
        ],
        [
         "1",
         "1",
         "15",
         "1",
         "9254",
         "1",
         "1",
         "160.0",
         "1",
         "1",
         "3",
         "3",
         "3",
         "142.5",
         "1",
         "0",
         "0",
         "0",
         "1",
         "0",
         "19",
         "0",
         "0",
         "6",
         "6",
         "6",
         "14.0",
         "0",
         "0",
         "6",
         "6",
         "6",
         "13.666666666666666",
         "0",
         "13.9",
         "-0.3",
         "0.79",
         "Graduate"
        ],
        [
         "2",
         "1",
         "1",
         "5",
         "9070",
         "1",
         "1",
         "122.0",
         "1",
         "37",
         "37",
         "9",
         "9",
         "124.8",
         "1",
         "0",
         "0",
         "0",
         "1",
         "0",
         "19",
         "0",
         "0",
         "6",
         "0",
         "0",
         "0.0",
         "0",
         "0",
         "6",
         "0",
         "0",
         "0.0",
         "0",
         "10.8",
         "1.4",
         "1.74",
         "Dropout"
        ],
        [
         "3",
         "1",
         "17",
         "2",
         "9773",
         "1",
         "1",
         "122.0",
         "1",
         "38",
         "37",
         "5",
         "3",
         "119.6",
         "1",
         "0",
         "0",
         "1",
         "0",
         "0",
         "20",
         "0",
         "0",
         "6",
         "8",
         "6",
         "13.428571428571429",
         "0",
         "0",
         "6",
         "10",
         "5",
         "12.4",
         "0",
         "9.4",
         "-0.8",
         "-3.12",
         "Graduate"
        ],
        [
         "4",
         "2",
         "39",
         "1",
         "8014",
         "0",
         "1",
         "100.0",
         "1",
         "37",
         "38",
         "9",
         "9",
         "141.5",
         "0",
         "0",
         "0",
         "1",
         "0",
         "0",
         "45",
         "0",
         "0",
         "6",
         "9",
         "5",
         "12.333333333333334",
         "0",
         "0",
         "6",
         "6",
         "6",
         "13.0",
         "0",
         "13.9",
         "-0.3",
         "0.79",
         "Graduate"
        ]
       ],
       "shape": {
        "columns": 37,
        "rows": 5
       }
      },
      "text/html": [
       "<div>\n",
       "<style scoped>\n",
       "    .dataframe tbody tr th:only-of-type {\n",
       "        vertical-align: middle;\n",
       "    }\n",
       "\n",
       "    .dataframe tbody tr th {\n",
       "        vertical-align: top;\n",
       "    }\n",
       "\n",
       "    .dataframe thead th {\n",
       "        text-align: right;\n",
       "    }\n",
       "</style>\n",
       "<table border=\"1\" class=\"dataframe\">\n",
       "  <thead>\n",
       "    <tr style=\"text-align: right;\">\n",
       "      <th></th>\n",
       "      <th>Marital status</th>\n",
       "      <th>Application mode</th>\n",
       "      <th>Application order</th>\n",
       "      <th>Course</th>\n",
       "      <th>Daytime/evening attendance\\t</th>\n",
       "      <th>Previous qualification</th>\n",
       "      <th>Previous qualification (grade)</th>\n",
       "      <th>Nationality</th>\n",
       "      <th>Mother's qualification</th>\n",
       "      <th>Father's qualification</th>\n",
       "      <th>...</th>\n",
       "      <th>Curricular units 2nd sem (credited)</th>\n",
       "      <th>Curricular units 2nd sem (enrolled)</th>\n",
       "      <th>Curricular units 2nd sem (evaluations)</th>\n",
       "      <th>Curricular units 2nd sem (approved)</th>\n",
       "      <th>Curricular units 2nd sem (grade)</th>\n",
       "      <th>Curricular units 2nd sem (without evaluations)</th>\n",
       "      <th>Unemployment rate</th>\n",
       "      <th>Inflation rate</th>\n",
       "      <th>GDP</th>\n",
       "      <th>Target</th>\n",
       "    </tr>\n",
       "  </thead>\n",
       "  <tbody>\n",
       "    <tr>\n",
       "      <th>0</th>\n",
       "      <td>1</td>\n",
       "      <td>17</td>\n",
       "      <td>5</td>\n",
       "      <td>171</td>\n",
       "      <td>1</td>\n",
       "      <td>1</td>\n",
       "      <td>122.0</td>\n",
       "      <td>1</td>\n",
       "      <td>19</td>\n",
       "      <td>12</td>\n",
       "      <td>...</td>\n",
       "      <td>0</td>\n",
       "      <td>0</td>\n",
       "      <td>0</td>\n",
       "      <td>0</td>\n",
       "      <td>0.000000</td>\n",
       "      <td>0</td>\n",
       "      <td>10.8</td>\n",
       "      <td>1.4</td>\n",
       "      <td>1.74</td>\n",
       "      <td>Dropout</td>\n",
       "    </tr>\n",
       "    <tr>\n",
       "      <th>1</th>\n",
       "      <td>1</td>\n",
       "      <td>15</td>\n",
       "      <td>1</td>\n",
       "      <td>9254</td>\n",
       "      <td>1</td>\n",
       "      <td>1</td>\n",
       "      <td>160.0</td>\n",
       "      <td>1</td>\n",
       "      <td>1</td>\n",
       "      <td>3</td>\n",
       "      <td>...</td>\n",
       "      <td>0</td>\n",
       "      <td>6</td>\n",
       "      <td>6</td>\n",
       "      <td>6</td>\n",
       "      <td>13.666667</td>\n",
       "      <td>0</td>\n",
       "      <td>13.9</td>\n",
       "      <td>-0.3</td>\n",
       "      <td>0.79</td>\n",
       "      <td>Graduate</td>\n",
       "    </tr>\n",
       "    <tr>\n",
       "      <th>2</th>\n",
       "      <td>1</td>\n",
       "      <td>1</td>\n",
       "      <td>5</td>\n",
       "      <td>9070</td>\n",
       "      <td>1</td>\n",
       "      <td>1</td>\n",
       "      <td>122.0</td>\n",
       "      <td>1</td>\n",
       "      <td>37</td>\n",
       "      <td>37</td>\n",
       "      <td>...</td>\n",
       "      <td>0</td>\n",
       "      <td>6</td>\n",
       "      <td>0</td>\n",
       "      <td>0</td>\n",
       "      <td>0.000000</td>\n",
       "      <td>0</td>\n",
       "      <td>10.8</td>\n",
       "      <td>1.4</td>\n",
       "      <td>1.74</td>\n",
       "      <td>Dropout</td>\n",
       "    </tr>\n",
       "    <tr>\n",
       "      <th>3</th>\n",
       "      <td>1</td>\n",
       "      <td>17</td>\n",
       "      <td>2</td>\n",
       "      <td>9773</td>\n",
       "      <td>1</td>\n",
       "      <td>1</td>\n",
       "      <td>122.0</td>\n",
       "      <td>1</td>\n",
       "      <td>38</td>\n",
       "      <td>37</td>\n",
       "      <td>...</td>\n",
       "      <td>0</td>\n",
       "      <td>6</td>\n",
       "      <td>10</td>\n",
       "      <td>5</td>\n",
       "      <td>12.400000</td>\n",
       "      <td>0</td>\n",
       "      <td>9.4</td>\n",
       "      <td>-0.8</td>\n",
       "      <td>-3.12</td>\n",
       "      <td>Graduate</td>\n",
       "    </tr>\n",
       "    <tr>\n",
       "      <th>4</th>\n",
       "      <td>2</td>\n",
       "      <td>39</td>\n",
       "      <td>1</td>\n",
       "      <td>8014</td>\n",
       "      <td>0</td>\n",
       "      <td>1</td>\n",
       "      <td>100.0</td>\n",
       "      <td>1</td>\n",
       "      <td>37</td>\n",
       "      <td>38</td>\n",
       "      <td>...</td>\n",
       "      <td>0</td>\n",
       "      <td>6</td>\n",
       "      <td>6</td>\n",
       "      <td>6</td>\n",
       "      <td>13.000000</td>\n",
       "      <td>0</td>\n",
       "      <td>13.9</td>\n",
       "      <td>-0.3</td>\n",
       "      <td>0.79</td>\n",
       "      <td>Graduate</td>\n",
       "    </tr>\n",
       "  </tbody>\n",
       "</table>\n",
       "<p>5 rows × 37 columns</p>\n",
       "</div>"
      ],
      "text/plain": [
       "   Marital status  Application mode  Application order  Course  \\\n",
       "0               1                17                  5     171   \n",
       "1               1                15                  1    9254   \n",
       "2               1                 1                  5    9070   \n",
       "3               1                17                  2    9773   \n",
       "4               2                39                  1    8014   \n",
       "\n",
       "   Daytime/evening attendance\\t  Previous qualification  \\\n",
       "0                             1                       1   \n",
       "1                             1                       1   \n",
       "2                             1                       1   \n",
       "3                             1                       1   \n",
       "4                             0                       1   \n",
       "\n",
       "   Previous qualification (grade)  Nationality  Mother's qualification  \\\n",
       "0                           122.0            1                      19   \n",
       "1                           160.0            1                       1   \n",
       "2                           122.0            1                      37   \n",
       "3                           122.0            1                      38   \n",
       "4                           100.0            1                      37   \n",
       "\n",
       "   Father's qualification  ...  Curricular units 2nd sem (credited)  \\\n",
       "0                      12  ...                                    0   \n",
       "1                       3  ...                                    0   \n",
       "2                      37  ...                                    0   \n",
       "3                      37  ...                                    0   \n",
       "4                      38  ...                                    0   \n",
       "\n",
       "   Curricular units 2nd sem (enrolled)  \\\n",
       "0                                    0   \n",
       "1                                    6   \n",
       "2                                    6   \n",
       "3                                    6   \n",
       "4                                    6   \n",
       "\n",
       "   Curricular units 2nd sem (evaluations)  \\\n",
       "0                                       0   \n",
       "1                                       6   \n",
       "2                                       0   \n",
       "3                                      10   \n",
       "4                                       6   \n",
       "\n",
       "   Curricular units 2nd sem (approved)  Curricular units 2nd sem (grade)  \\\n",
       "0                                    0                          0.000000   \n",
       "1                                    6                         13.666667   \n",
       "2                                    0                          0.000000   \n",
       "3                                    5                         12.400000   \n",
       "4                                    6                         13.000000   \n",
       "\n",
       "   Curricular units 2nd sem (without evaluations)  Unemployment rate  \\\n",
       "0                                               0               10.8   \n",
       "1                                               0               13.9   \n",
       "2                                               0               10.8   \n",
       "3                                               0                9.4   \n",
       "4                                               0               13.9   \n",
       "\n",
       "   Inflation rate   GDP    Target  \n",
       "0             1.4  1.74   Dropout  \n",
       "1            -0.3  0.79  Graduate  \n",
       "2             1.4  1.74   Dropout  \n",
       "3            -0.8 -3.12  Graduate  \n",
       "4            -0.3  0.79  Graduate  \n",
       "\n",
       "[5 rows x 37 columns]"
      ]
     },
     "execution_count": 7,
     "metadata": {},
     "output_type": "execute_result"
    }
   ],
   "source": [
    "# Rename nacionality to nationality\n",
    "df.rename({'Nacionality':'Nationality'}, axis=1, inplace=True)\n",
    "df.head()"
   ]
  },
  {
   "cell_type": "code",
   "execution_count": 8,
   "metadata": {},
   "outputs": [
    {
     "name": "stdout",
     "output_type": "stream",
     "text": [
      "<class 'pandas.core.frame.DataFrame'>\n",
      "RangeIndex: 4424 entries, 0 to 4423\n",
      "Data columns (total 37 columns):\n",
      " #   Column                                          Non-Null Count  Dtype  \n",
      "---  ------                                          --------------  -----  \n",
      " 0   Marital status                                  4424 non-null   int64  \n",
      " 1   Application mode                                4424 non-null   int64  \n",
      " 2   Application order                               4424 non-null   int64  \n",
      " 3   Course                                          4424 non-null   int64  \n",
      " 4   Daytime/evening attendance\t                     4424 non-null   int64  \n",
      " 5   Previous qualification                          4424 non-null   int64  \n",
      " 6   Previous qualification (grade)                  4424 non-null   float64\n",
      " 7   Nationality                                     4424 non-null   int64  \n",
      " 8   Mother's qualification                          4424 non-null   int64  \n",
      " 9   Father's qualification                          4424 non-null   int64  \n",
      " 10  Mother's occupation                             4424 non-null   int64  \n",
      " 11  Father's occupation                             4424 non-null   int64  \n",
      " 12  Admission grade                                 4424 non-null   float64\n",
      " 13  Displaced                                       4424 non-null   int64  \n",
      " 14  Educational special needs                       4424 non-null   int64  \n",
      " 15  Debtor                                          4424 non-null   int64  \n",
      " 16  Tuition fees up to date                         4424 non-null   int64  \n",
      " 17  Gender                                          4424 non-null   int64  \n",
      " 18  Scholarship holder                              4424 non-null   int64  \n",
      " 19  Age at enrollment                               4424 non-null   int64  \n",
      " 20  International                                   4424 non-null   int64  \n",
      " 21  Curricular units 1st sem (credited)             4424 non-null   int64  \n",
      " 22  Curricular units 1st sem (enrolled)             4424 non-null   int64  \n",
      " 23  Curricular units 1st sem (evaluations)          4424 non-null   int64  \n",
      " 24  Curricular units 1st sem (approved)             4424 non-null   int64  \n",
      " 25  Curricular units 1st sem (grade)                4424 non-null   float64\n",
      " 26  Curricular units 1st sem (without evaluations)  4424 non-null   int64  \n",
      " 27  Curricular units 2nd sem (credited)             4424 non-null   int64  \n",
      " 28  Curricular units 2nd sem (enrolled)             4424 non-null   int64  \n",
      " 29  Curricular units 2nd sem (evaluations)          4424 non-null   int64  \n",
      " 30  Curricular units 2nd sem (approved)             4424 non-null   int64  \n",
      " 31  Curricular units 2nd sem (grade)                4424 non-null   float64\n",
      " 32  Curricular units 2nd sem (without evaluations)  4424 non-null   int64  \n",
      " 33  Unemployment rate                               4424 non-null   float64\n",
      " 34  Inflation rate                                  4424 non-null   float64\n",
      " 35  GDP                                             4424 non-null   float64\n",
      " 36  Target                                          4424 non-null   object \n",
      "dtypes: float64(7), int64(29), object(1)\n",
      "memory usage: 1.2+ MB\n"
     ]
    }
   ],
   "source": [
    "# Check for missing values\n",
    "df.info()"
   ]
  },
  {
   "cell_type": "code",
   "execution_count": 9,
   "metadata": {},
   "outputs": [
    {
     "data": {
      "text/plain": [
       "0        Dropout\n",
       "1       Graduate\n",
       "2        Dropout\n",
       "3       Graduate\n",
       "4       Graduate\n",
       "          ...   \n",
       "4419    Graduate\n",
       "4420     Dropout\n",
       "4421     Dropout\n",
       "4422    Graduate\n",
       "4423    Graduate\n",
       "Name: Target, Length: 4424, dtype: object"
      ]
     },
     "execution_count": 9,
     "metadata": {},
     "output_type": "execute_result"
    }
   ],
   "source": [
    "# Target data\n",
    "df.Target"
   ]
  },
  {
   "cell_type": "code",
   "execution_count": 10,
   "metadata": {},
   "outputs": [
    {
     "name": "stdout",
     "output_type": "stream",
     "text": [
      "Percentage of 'enrolled' students: 17.95%\n"
     ]
    }
   ],
   "source": [
    "\n",
    "print('Percentage of \\'enrolled\\' students: {:.2f}%'.format(float(df.Target[df.Target == 'Enrolled'].value_counts() / df.shape[0] * 100)))"
   ]
  },
  {
   "cell_type": "markdown",
   "metadata": {},
   "source": [
    "It looks like we could easily remove the 'Enrolled' students from our dataset as they do not represent a large portion of the data and it might be more interesting to consider the cases of graduated or dropped out students only."
   ]
  },
  {
   "cell_type": "code",
   "execution_count": 11,
   "metadata": {},
   "outputs": [
    {
     "data": {
      "application/vnd.microsoft.datawrangler.viewer.v0+json": {
       "columns": [
        {
         "name": "index",
         "rawType": "object",
         "type": "string"
        },
        {
         "name": "count",
         "rawType": "int64",
         "type": "integer"
        },
        {
         "name": "%",
         "rawType": "float64",
         "type": "float"
        }
       ],
       "conversionMethod": "pd.DataFrame",
       "ref": "db773a02-005f-4ae6-b906-aa7a66d26442",
       "rows": [
        [
         "Marital status",
         "0",
         "0.0"
        ],
        [
         "Age at enrollment",
         "0",
         "0.0"
        ],
        [
         "Curricular units 1st sem (credited)",
         "0",
         "0.0"
        ],
        [
         "Curricular units 1st sem (enrolled)",
         "0",
         "0.0"
        ],
        [
         "Curricular units 1st sem (evaluations)",
         "0",
         "0.0"
        ],
        [
         "Curricular units 1st sem (approved)",
         "0",
         "0.0"
        ],
        [
         "Curricular units 1st sem (grade)",
         "0",
         "0.0"
        ],
        [
         "Curricular units 1st sem (without evaluations)",
         "0",
         "0.0"
        ],
        [
         "Curricular units 2nd sem (credited)",
         "0",
         "0.0"
        ],
        [
         "Curricular units 2nd sem (enrolled)",
         "0",
         "0.0"
        ],
        [
         "Curricular units 2nd sem (evaluations)",
         "0",
         "0.0"
        ],
        [
         "Curricular units 2nd sem (approved)",
         "0",
         "0.0"
        ],
        [
         "Curricular units 2nd sem (grade)",
         "0",
         "0.0"
        ],
        [
         "Curricular units 2nd sem (without evaluations)",
         "0",
         "0.0"
        ],
        [
         "Unemployment rate",
         "0",
         "0.0"
        ],
        [
         "Inflation rate",
         "0",
         "0.0"
        ],
        [
         "GDP",
         "0",
         "0.0"
        ],
        [
         "International",
         "0",
         "0.0"
        ],
        [
         "Scholarship holder",
         "0",
         "0.0"
        ],
        [
         "Application mode",
         "0",
         "0.0"
        ],
        [
         "Gender",
         "0",
         "0.0"
        ],
        [
         "Application order",
         "0",
         "0.0"
        ],
        [
         "Course",
         "0",
         "0.0"
        ],
        [
         "Daytime/evening attendance\t",
         "0",
         "0.0"
        ],
        [
         "Previous qualification",
         "0",
         "0.0"
        ],
        [
         "Previous qualification (grade)",
         "0",
         "0.0"
        ],
        [
         "Nationality",
         "0",
         "0.0"
        ],
        [
         "Mother's qualification",
         "0",
         "0.0"
        ],
        [
         "Father's qualification",
         "0",
         "0.0"
        ],
        [
         "Mother's occupation",
         "0",
         "0.0"
        ],
        [
         "Father's occupation",
         "0",
         "0.0"
        ],
        [
         "Admission grade",
         "0",
         "0.0"
        ],
        [
         "Displaced",
         "0",
         "0.0"
        ],
        [
         "Educational special needs",
         "0",
         "0.0"
        ],
        [
         "Debtor",
         "0",
         "0.0"
        ],
        [
         "Tuition fees up to date",
         "0",
         "0.0"
        ],
        [
         "Target",
         "0",
         "0.0"
        ]
       ],
       "shape": {
        "columns": 2,
        "rows": 37
       }
      },
      "text/html": [
       "<div>\n",
       "<style scoped>\n",
       "    .dataframe tbody tr th:only-of-type {\n",
       "        vertical-align: middle;\n",
       "    }\n",
       "\n",
       "    .dataframe tbody tr th {\n",
       "        vertical-align: top;\n",
       "    }\n",
       "\n",
       "    .dataframe thead th {\n",
       "        text-align: right;\n",
       "    }\n",
       "</style>\n",
       "<table border=\"1\" class=\"dataframe\">\n",
       "  <thead>\n",
       "    <tr style=\"text-align: right;\">\n",
       "      <th></th>\n",
       "      <th>count</th>\n",
       "      <th>%</th>\n",
       "    </tr>\n",
       "  </thead>\n",
       "  <tbody>\n",
       "    <tr>\n",
       "      <th>Marital status</th>\n",
       "      <td>0</td>\n",
       "      <td>0.0</td>\n",
       "    </tr>\n",
       "    <tr>\n",
       "      <th>Age at enrollment</th>\n",
       "      <td>0</td>\n",
       "      <td>0.0</td>\n",
       "    </tr>\n",
       "    <tr>\n",
       "      <th>Curricular units 1st sem (credited)</th>\n",
       "      <td>0</td>\n",
       "      <td>0.0</td>\n",
       "    </tr>\n",
       "    <tr>\n",
       "      <th>Curricular units 1st sem (enrolled)</th>\n",
       "      <td>0</td>\n",
       "      <td>0.0</td>\n",
       "    </tr>\n",
       "    <tr>\n",
       "      <th>Curricular units 1st sem (evaluations)</th>\n",
       "      <td>0</td>\n",
       "      <td>0.0</td>\n",
       "    </tr>\n",
       "    <tr>\n",
       "      <th>Curricular units 1st sem (approved)</th>\n",
       "      <td>0</td>\n",
       "      <td>0.0</td>\n",
       "    </tr>\n",
       "    <tr>\n",
       "      <th>Curricular units 1st sem (grade)</th>\n",
       "      <td>0</td>\n",
       "      <td>0.0</td>\n",
       "    </tr>\n",
       "    <tr>\n",
       "      <th>Curricular units 1st sem (without evaluations)</th>\n",
       "      <td>0</td>\n",
       "      <td>0.0</td>\n",
       "    </tr>\n",
       "    <tr>\n",
       "      <th>Curricular units 2nd sem (credited)</th>\n",
       "      <td>0</td>\n",
       "      <td>0.0</td>\n",
       "    </tr>\n",
       "    <tr>\n",
       "      <th>Curricular units 2nd sem (enrolled)</th>\n",
       "      <td>0</td>\n",
       "      <td>0.0</td>\n",
       "    </tr>\n",
       "    <tr>\n",
       "      <th>Curricular units 2nd sem (evaluations)</th>\n",
       "      <td>0</td>\n",
       "      <td>0.0</td>\n",
       "    </tr>\n",
       "    <tr>\n",
       "      <th>Curricular units 2nd sem (approved)</th>\n",
       "      <td>0</td>\n",
       "      <td>0.0</td>\n",
       "    </tr>\n",
       "    <tr>\n",
       "      <th>Curricular units 2nd sem (grade)</th>\n",
       "      <td>0</td>\n",
       "      <td>0.0</td>\n",
       "    </tr>\n",
       "    <tr>\n",
       "      <th>Curricular units 2nd sem (without evaluations)</th>\n",
       "      <td>0</td>\n",
       "      <td>0.0</td>\n",
       "    </tr>\n",
       "    <tr>\n",
       "      <th>Unemployment rate</th>\n",
       "      <td>0</td>\n",
       "      <td>0.0</td>\n",
       "    </tr>\n",
       "    <tr>\n",
       "      <th>Inflation rate</th>\n",
       "      <td>0</td>\n",
       "      <td>0.0</td>\n",
       "    </tr>\n",
       "    <tr>\n",
       "      <th>GDP</th>\n",
       "      <td>0</td>\n",
       "      <td>0.0</td>\n",
       "    </tr>\n",
       "    <tr>\n",
       "      <th>International</th>\n",
       "      <td>0</td>\n",
       "      <td>0.0</td>\n",
       "    </tr>\n",
       "    <tr>\n",
       "      <th>Scholarship holder</th>\n",
       "      <td>0</td>\n",
       "      <td>0.0</td>\n",
       "    </tr>\n",
       "    <tr>\n",
       "      <th>Application mode</th>\n",
       "      <td>0</td>\n",
       "      <td>0.0</td>\n",
       "    </tr>\n",
       "    <tr>\n",
       "      <th>Gender</th>\n",
       "      <td>0</td>\n",
       "      <td>0.0</td>\n",
       "    </tr>\n",
       "    <tr>\n",
       "      <th>Application order</th>\n",
       "      <td>0</td>\n",
       "      <td>0.0</td>\n",
       "    </tr>\n",
       "    <tr>\n",
       "      <th>Course</th>\n",
       "      <td>0</td>\n",
       "      <td>0.0</td>\n",
       "    </tr>\n",
       "    <tr>\n",
       "      <th>Daytime/evening attendance\\t</th>\n",
       "      <td>0</td>\n",
       "      <td>0.0</td>\n",
       "    </tr>\n",
       "    <tr>\n",
       "      <th>Previous qualification</th>\n",
       "      <td>0</td>\n",
       "      <td>0.0</td>\n",
       "    </tr>\n",
       "    <tr>\n",
       "      <th>Previous qualification (grade)</th>\n",
       "      <td>0</td>\n",
       "      <td>0.0</td>\n",
       "    </tr>\n",
       "    <tr>\n",
       "      <th>Nationality</th>\n",
       "      <td>0</td>\n",
       "      <td>0.0</td>\n",
       "    </tr>\n",
       "    <tr>\n",
       "      <th>Mother's qualification</th>\n",
       "      <td>0</td>\n",
       "      <td>0.0</td>\n",
       "    </tr>\n",
       "    <tr>\n",
       "      <th>Father's qualification</th>\n",
       "      <td>0</td>\n",
       "      <td>0.0</td>\n",
       "    </tr>\n",
       "    <tr>\n",
       "      <th>Mother's occupation</th>\n",
       "      <td>0</td>\n",
       "      <td>0.0</td>\n",
       "    </tr>\n",
       "    <tr>\n",
       "      <th>Father's occupation</th>\n",
       "      <td>0</td>\n",
       "      <td>0.0</td>\n",
       "    </tr>\n",
       "    <tr>\n",
       "      <th>Admission grade</th>\n",
       "      <td>0</td>\n",
       "      <td>0.0</td>\n",
       "    </tr>\n",
       "    <tr>\n",
       "      <th>Displaced</th>\n",
       "      <td>0</td>\n",
       "      <td>0.0</td>\n",
       "    </tr>\n",
       "    <tr>\n",
       "      <th>Educational special needs</th>\n",
       "      <td>0</td>\n",
       "      <td>0.0</td>\n",
       "    </tr>\n",
       "    <tr>\n",
       "      <th>Debtor</th>\n",
       "      <td>0</td>\n",
       "      <td>0.0</td>\n",
       "    </tr>\n",
       "    <tr>\n",
       "      <th>Tuition fees up to date</th>\n",
       "      <td>0</td>\n",
       "      <td>0.0</td>\n",
       "    </tr>\n",
       "    <tr>\n",
       "      <th>Target</th>\n",
       "      <td>0</td>\n",
       "      <td>0.0</td>\n",
       "    </tr>\n",
       "  </tbody>\n",
       "</table>\n",
       "</div>"
      ],
      "text/plain": [
       "                                                count    %\n",
       "Marital status                                      0  0.0\n",
       "Age at enrollment                                   0  0.0\n",
       "Curricular units 1st sem (credited)                 0  0.0\n",
       "Curricular units 1st sem (enrolled)                 0  0.0\n",
       "Curricular units 1st sem (evaluations)              0  0.0\n",
       "Curricular units 1st sem (approved)                 0  0.0\n",
       "Curricular units 1st sem (grade)                    0  0.0\n",
       "Curricular units 1st sem (without evaluations)      0  0.0\n",
       "Curricular units 2nd sem (credited)                 0  0.0\n",
       "Curricular units 2nd sem (enrolled)                 0  0.0\n",
       "Curricular units 2nd sem (evaluations)              0  0.0\n",
       "Curricular units 2nd sem (approved)                 0  0.0\n",
       "Curricular units 2nd sem (grade)                    0  0.0\n",
       "Curricular units 2nd sem (without evaluations)      0  0.0\n",
       "Unemployment rate                                   0  0.0\n",
       "Inflation rate                                      0  0.0\n",
       "GDP                                                 0  0.0\n",
       "International                                       0  0.0\n",
       "Scholarship holder                                  0  0.0\n",
       "Application mode                                    0  0.0\n",
       "Gender                                              0  0.0\n",
       "Application order                                   0  0.0\n",
       "Course                                              0  0.0\n",
       "Daytime/evening attendance\\t                        0  0.0\n",
       "Previous qualification                              0  0.0\n",
       "Previous qualification (grade)                      0  0.0\n",
       "Nationality                                         0  0.0\n",
       "Mother's qualification                              0  0.0\n",
       "Father's qualification                              0  0.0\n",
       "Mother's occupation                                 0  0.0\n",
       "Father's occupation                                 0  0.0\n",
       "Admission grade                                     0  0.0\n",
       "Displaced                                           0  0.0\n",
       "Educational special needs                           0  0.0\n",
       "Debtor                                              0  0.0\n",
       "Tuition fees up to date                             0  0.0\n",
       "Target                                              0  0.0"
      ]
     },
     "execution_count": 11,
     "metadata": {},
     "output_type": "execute_result"
    }
   ],
   "source": [
    "missing = pd.concat([df.isnull().sum(), 100 * df.isnull().mean()], axis=1)\n",
    "missing.columns=['count', '%']\n",
    "missing.sort_values(by='count', ascending=0)"
   ]
  },
  {
   "cell_type": "markdown",
   "metadata": {},
   "source": [
    "It looks like we are very fortunate to have a clean dataset with no missing values."
   ]
  },
  {
   "cell_type": "code",
   "execution_count": 31,
   "metadata": {},
   "outputs": [
    {
     "data": {
      "text/plain": [
       "Marital status                                      int64\n",
       "Application mode                                    int64\n",
       "Application order                                   int64\n",
       "Course                                              int64\n",
       "Daytime/evening attendance\\t                        int64\n",
       "Previous qualification                              int64\n",
       "Previous qualification (grade)                    float64\n",
       "Nationality                                         int64\n",
       "Mother's qualification                              int64\n",
       "Father's qualification                              int64\n",
       "Mother's occupation                                 int64\n",
       "Father's occupation                                 int64\n",
       "Admission grade                                   float64\n",
       "Displaced                                           int64\n",
       "Educational special needs                           int64\n",
       "Debtor                                              int64\n",
       "Tuition fees up to date                             int64\n",
       "Gender                                              int64\n",
       "Scholarship holder                                  int64\n",
       "Age at enrollment                                   int64\n",
       "International                                       int64\n",
       "Curricular units 1st sem (credited)                 int64\n",
       "Curricular units 1st sem (enrolled)                 int64\n",
       "Curricular units 1st sem (evaluations)              int64\n",
       "Curricular units 1st sem (approved)                 int64\n",
       "Curricular units 1st sem (grade)                  float64\n",
       "Curricular units 1st sem (without evaluations)      int64\n",
       "Curricular units 2nd sem (credited)                 int64\n",
       "Curricular units 2nd sem (enrolled)                 int64\n",
       "Curricular units 2nd sem (evaluations)              int64\n",
       "Curricular units 2nd sem (approved)                 int64\n",
       "Curricular units 2nd sem (grade)                  float64\n",
       "Curricular units 2nd sem (without evaluations)      int64\n",
       "Unemployment rate                                 float64\n",
       "Inflation rate                                    float64\n",
       "GDP                                               float64\n",
       "Target                                             object\n",
       "dtype: object"
      ]
     },
     "execution_count": 31,
     "metadata": {},
     "output_type": "execute_result"
    }
   ],
   "source": [
    "df.dtypes"
   ]
  },
  {
   "cell_type": "code",
   "execution_count": 13,
   "metadata": {},
   "outputs": [
    {
     "data": {
      "text/plain": [
       "Index(['Target'], dtype='object')"
      ]
     },
     "execution_count": 13,
     "metadata": {},
     "output_type": "execute_result"
    }
   ],
   "source": [
    "df.select_dtypes(include=['object', 'bool', 'category']).columns"
   ]
  },
  {
   "cell_type": "markdown",
   "metadata": {},
   "source": [
    "Multiple categorical columns"
   ]
  },
  {
   "cell_type": "code",
   "execution_count": 14,
   "metadata": {},
   "outputs": [
    {
     "data": {
      "text/plain": [
       "Nationality\n",
       "1      4314\n",
       "41       38\n",
       "26       14\n",
       "22       13\n",
       "6        13\n",
       "24        5\n",
       "100       3\n",
       "11        3\n",
       "103       3\n",
       "21        2\n",
       "101       2\n",
       "62        2\n",
       "25        2\n",
       "2         2\n",
       "105       2\n",
       "32        1\n",
       "13        1\n",
       "109       1\n",
       "108       1\n",
       "14        1\n",
       "17        1\n",
       "Name: count, dtype: int64"
      ]
     },
     "execution_count": 14,
     "metadata": {},
     "output_type": "execute_result"
    }
   ],
   "source": [
    "df.Nationality.value_counts()"
   ]
  },
  {
   "cell_type": "code",
   "execution_count": 15,
   "metadata": {},
   "outputs": [
    {
     "data": {
      "image/png": "[encoded data removed]",
      "text/plain": [
       "<Figure size 1000x600 with 1 Axes>"
      ]
     },
     "metadata": {},
     "output_type": "display_data"
    }
   ],
   "source": [
    "fig, ax = plt.subplots(figsize=(10, 6))\n",
    "df.Nationality.value_counts().plot(kind='barh', ax=ax)\n",
    "ax.set_xlabel('Count')\n",
    "ax.set_ylabel('Nationality')\n",
    "plt.show()"
   ]
  },
  {
   "cell_type": "code",
   "execution_count": 16,
   "metadata": {},
   "outputs": [],
   "source": [
    "def txt_to_dict(file, dict):\n",
    "    \"\"\"Read text file and add key-value pairs to the dictionary.\"\"\"\n",
    "    with open(file, 'r') as f:\n",
    "        for line in f:\n",
    "            t = re.split('-|–', line, maxsplit=1) # some files have en dash (ASCI 8211) instead of normal hyphen (ASCII 45), so account for both. also some lines have multiple hyphens, only split first\n",
    "            t[0] = t[0].strip()\n",
    "            t[1] = t[1].strip()\n",
    "            dict[t[0]] = t[1]"
   ]
  },
  {
   "cell_type": "code",
   "execution_count": 17,
   "metadata": {},
   "outputs": [],
   "source": [
    "# Create reference dictionaries for features using .txt files in data folder\n",
    "for file in os.listdir('./data/'):\n",
    "    if file.endswith('.txt') and not file.startswith('dict_file'):\n",
    "        dict_name = file.split('.')[0]\n",
    "        globals()[dict_name] = {}\n",
    "        txt_to_dict('./data/' + file, globals()[dict_name])"
   ]
  },
  {
   "cell_type": "code",
   "execution_count": 18,
   "metadata": {},
   "outputs": [
    {
     "data": {
      "image/png": "[encoded data removed]",
      "text/plain": [
       "<Figure size 1000x600 with 1 Axes>"
      ]
     },
     "metadata": {},
     "output_type": "display_data"
    }
   ],
   "source": [
    "# Replot previous figure with updated ylabels\n",
    "fig, ax = plt.subplots(figsize=(10, 6))\n",
    "df.Nationality.value_counts().plot(kind='barh', ax=ax)\n",
    "ax.set_yticklabels(nationality.values())\n",
    "ax.set_xlabel('Count')\n",
    "ax.set_ylabel('Nationality')\n",
    "plt.show()"
   ]
  },
  {
   "cell_type": "code",
   "execution_count": 19,
   "metadata": {},
   "outputs": [
    {
     "name": "stdout",
     "output_type": "stream",
     "text": [
      "0    1\n",
      "Name: Nationality, dtype: int64\n"
     ]
    }
   ],
   "source": [
    "# Double checking\n",
    "print(df.Nationality.mode())"
   ]
  },
  {
   "cell_type": "code",
   "execution_count": 20,
   "metadata": {},
   "outputs": [
    {
     "data": {
      "text/plain": [
       "Index(['Marital status', 'Application mode', 'Application order', 'Course',\n",
       "       'Daytime/evening attendance\\t', 'Previous qualification',\n",
       "       'Previous qualification (grade)', 'Nationality',\n",
       "       'Mother's qualification', 'Father's qualification',\n",
       "       'Mother's occupation', 'Father's occupation', 'Admission grade',\n",
       "       'Displaced', 'Educational special needs', 'Debtor',\n",
       "       'Tuition fees up to date', 'Gender', 'Scholarship holder',\n",
       "       'Age at enrollment', 'International',\n",
       "       'Curricular units 1st sem (credited)',\n",
       "       'Curricular units 1st sem (enrolled)',\n",
       "       'Curricular units 1st sem (evaluations)',\n",
       "       'Curricular units 1st sem (approved)',\n",
       "       'Curricular units 1st sem (grade)',\n",
       "       'Curricular units 1st sem (without evaluations)',\n",
       "       'Curricular units 2nd sem (credited)',\n",
       "       'Curricular units 2nd sem (enrolled)',\n",
       "       'Curricular units 2nd sem (evaluations)',\n",
       "       'Curricular units 2nd sem (approved)',\n",
       "       'Curricular units 2nd sem (grade)',\n",
       "       'Curricular units 2nd sem (without evaluations)', 'Unemployment rate',\n",
       "       'Inflation rate', 'GDP', 'Target'],\n",
       "      dtype='object')"
      ]
     },
     "execution_count": 20,
     "metadata": {},
     "output_type": "execute_result"
    }
   ],
   "source": [
    "df.columns"
   ]
  },
  {
   "cell_type": "code",
   "execution_count": 21,
   "metadata": {},
   "outputs": [
    {
     "data": {
      "image/png": "[encoded data removed]",
      "text/plain": [
       "<Figure size 1600x1600 with 36 Axes>"
      ]
     },
     "metadata": {},
     "output_type": "display_data"
    }
   ],
   "source": [
    "df_cu_rename = df.copy()\n",
    "for i in df_cu_rename.columns:\n",
    "    if 'Curricular' in i:\n",
    "        df_cu_rename.rename({i:i.replace('Curricular units', 'C.U.')}, axis=1, inplace=True)\n",
    "df_cu_rename.hist(figsize=(16, 16))\n",
    "plt.subplots_adjust(hspace=0.5)\n",
    "plt.tight_layout()\n",
    "plt.show()"
   ]
  },
  {
   "cell_type": "markdown",
   "metadata": {},
   "source": [
    "Looking at the distributions above, I wonder about inflation rate, is it based on the student's nationality? In which case we should see more than 4000 with the same inflation rate, so maybe it refers to something else. Same with GDP, whose units make me wonder if it's not a log scale. In the next section I'll make a correlation plot, and from there I'll determine if I can excluse inflation rate and GDP, as they're features I don't fully understand. I also wonder about educational special needs, which could have a huge impact on student dropout rates, but it's a very skewed distribution."
   ]
  },
  {
   "cell_type": "code",
   "execution_count": 22,
   "metadata": {},
   "outputs": [
    {
     "data": {
      "image/png": "[encoded data removed]",
      "text/plain": [
       "<Figure size 640x480 with 1 Axes>"
      ]
     },
     "metadata": {},
     "output_type": "display_data"
    }
   ],
   "source": [
    "df.Target.hist()\n",
    "plt.show()"
   ]
  },
  {
   "cell_type": "code",
   "execution_count": 23,
   "metadata": {},
   "outputs": [
    {
     "name": "stdout",
     "output_type": "stream",
     "text": [
      "0       1.74\n",
      "1       0.79\n",
      "2       1.74\n",
      "3      -3.12\n",
      "4       0.79\n",
      "        ... \n",
      "4419   -4.06\n",
      "4420    2.02\n",
      "4421    0.79\n",
      "4422   -3.12\n",
      "4423   -1.70\n",
      "Name: GDP, Length: 4424, dtype: float64\n",
      "0        54.954087\n",
      "1         6.165950\n",
      "2        54.954087\n",
      "3         0.000759\n",
      "4         6.165950\n",
      "           ...    \n",
      "4419      0.000087\n",
      "4420    104.712855\n",
      "4421      6.165950\n",
      "4422      0.000759\n",
      "4423      0.019953\n",
      "Name: GDP, Length: 4424, dtype: float64\n"
     ]
    }
   ],
   "source": [
    "print(df.GDP)\n",
    "print(10**(df.GDP))"
   ]
  },
  {
   "cell_type": "code",
   "execution_count": 24,
   "metadata": {},
   "outputs": [],
   "source": [
    "# Change GDP to true scale\n",
    "df.GDP = 10**(df.GDP)"
   ]
  },
  {
   "cell_type": "code",
   "execution_count": 26,
   "metadata": {},
   "outputs": [
    {
     "name": "stdout",
     "output_type": "stream",
     "text": [
      "A file already exists with this name.\n",
      "\n",
      "Writing file.  \"./data/df_cleaned.csv\"\n"
     ]
    }
   ],
   "source": [
    "datapath = './data/'\n",
    "save_file(df, 'df_cleaned.csv', datapath)"
   ]
  },
  {
   "cell_type": "code",
   "execution_count": 27,
   "metadata": {},
   "outputs": [],
   "source": [
    "import pickle\n",
    "import json"
   ]
  },
  {
   "cell_type": "code",
   "execution_count": 28,
   "metadata": {},
   "outputs": [
    {
     "name": "stdout",
     "output_type": "stream",
     "text": [
      "{'1': 'Portuguese', '2': 'German', '6': 'Spanish', '11': 'Italian', '13': 'Dutch', '14': 'English', '17': 'Lithuanian', '21': 'Angolan', '22': 'Cape Verdean', '24': 'Guinean', '25': 'Mozambican', '26': 'Santomean', '32': 'Turkish', '41': 'Brazilian', '62': 'Romanian', '100': 'Moldova (Republic of)', '101': 'Mexican', '103': 'Ukrainian', '105': 'Russian', '108': 'Cuban', '109': 'Colombian'}\n"
     ]
    }
   ],
   "source": [
    "print(nationality)"
   ]
  },
  {
   "cell_type": "code",
   "execution_count": 29,
   "metadata": {},
   "outputs": [
    {
     "name": "stdout",
     "output_type": "stream",
     "text": [
      "{\"1\": \"Portuguese\", \"2\": \"German\", \"6\": \"Spanish\", \"11\": \"Italian\", \"13\": \"Dutch\", \"14\": \"English\", \"17\": \"Lithuanian\", \"21\": \"Angolan\", \"22\": \"Cape Verdean\", \"24\": \"Guinean\", \"25\": \"Mozambican\", \"26\": \"Santomean\", \"32\": \"Turkish\", \"41\": \"Brazilian\", \"62\": \"Romanian\", \"100\": \"Moldova (Republic of)\", \"101\": \"Mexican\", \"103\": \"Ukrainian\", \"105\": \"Russian\", \"108\": \"Cuban\", \"109\": \"Colombian\"}\n"
     ]
    }
   ],
   "source": [
    "print(json.dumps(nationality))"
   ]
  },
  {
   "cell_type": "code",
   "execution_count": 30,
   "metadata": {},
   "outputs": [],
   "source": [
    "# # Create reference dictionaries for features using .txt files in data folder\n",
    "with open('./data/dict_file.txt', 'w') as file:\n",
    "     for filename in os.listdir('./data/'):\n",
    "          if filename.endswith('.txt') and not filename.startswith('dict'):\n",
    "            dict_name = filename.split('.')[0]\n",
    "          file.write(str(dict_name) + ' = ' + json.dumps(globals()[dict_name]) + '\\n')\n",
    "# small error where marital_status is created 4 times, not sure why its happening but it doesn't cause any problems"
   ]
  },
  {
   "cell_type": "code",
   "execution_count": null,
   "metadata": {},
   "outputs": [],
   "source": []
  },
  {
   "cell_type": "markdown",
   "metadata": {},
   "source": [
    "There are many categorical features, so melting the matrix will make it very long but it should be manageable. Luckily the dataset is very clean and doesn't really need to be cleaned further. I'd like to drop the inflation rate and GDP columns as soon as it makes sense to. I'd also like to drop the 'Enrolled' students from the dataset as this would allow me to focus more on the features we care about, graduate or drop out."
   ]
  }
 ],
 "metadata": {
  "kernelspec": {
   "display_name": "Python 3",
   "language": "python",
   "name": "python3"
  },
  "language_info": {
   "codemirror_mode": {
    "name": "ipython",
    "version": 3
   },
   "file_extension": ".py",
   "mimetype": "text/x-python",
   "name": "python",
   "nbconvert_exporter": "python",
   "pygments_lexer": "ipython3",
   "version": "3.10.4"
  }
 },
 "nbformat": 4,
 "nbformat_minor": 2
}
